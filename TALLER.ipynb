{
  "nbformat": 4,
  "nbformat_minor": 0,
  "metadata": {
    "colab": {
      "provenance": [],
      "toc_visible": true
    },
    "kernelspec": {
      "name": "python3",
      "display_name": "Python 3"
    },
    "language_info": {
      "name": "python"
    }
  },
  "cells": [
    {
      "cell_type": "markdown",
      "source": [
        "#Problema 1: Desarrolladores\n",
        "\n",
        "• Cada programador envía su programa en diferente momento del día. De\n",
        "acuerdo con el horario en el cual envía el programa, determine a qué tipo\n",
        "de programador pertenece cada uno de N programadores:"
      ],
      "metadata": {
        "id": "URvpDi6dOk19"
      }
    },
    {
      "cell_type": "code",
      "execution_count": null,
      "metadata": {
        "id": "7RM5xwx9OhOn"
      },
      "outputs": [],
      "source": [
        "from datetime import datetime\n",
        "\n",
        "N=int(input())\n",
        "\n",
        "begin_truevampire= datetime(1,1,1,0,0,0)\n",
        "finish_truevampire= datetime(1,1,1,3,59,59)\n",
        "begin_earlybirds=datetime(1,1,1,4,0,0)\n",
        "finish_earlybirds=datetime(1,1,1,7,59,59)\n",
        "begin_sunnywarners=datetime(1,1,1,8,0,0)\n",
        "finish_sunnywarners=datetime(1,1,1,11,59,59)\n",
        "begin_lunchwork=datetime(1,1,1,12,0,0)\n",
        "finish_lunchwork=datetime(1,1,1,15,59,59)\n",
        "begin_sunsetlovers=datetime(1,1,1,16,0,0)\n",
        "finish_sunsetlovers=datetime(1,1,1,19,59,59)\n",
        "begin_primetimers=datetime(1,1,1,20,0,0)\n",
        "finish_primetimers=datetime(1,1,1,23,59,59)\n",
        "\n",
        "for i in range (N) :\n",
        "  hora_de_envio=str(input())\n",
        "  lista= hora_de_envio.split()\n",
        "\n",
        "  fecha =(lista[0])\n",
        "  hora=lista[1]\n",
        "\n",
        "  lista_fecha=fecha.split('-')\n",
        "  lista_hora=hora.split(':')\n",
        "\n",
        "  for i in range(3):\n",
        "    lista_hora[i]=int(lista_hora[i])\n",
        "    lista_fecha[i]=int(lista_fecha[i])\n",
        "\n",
        "  envio_datetime= datetime(1, 1, 1, lista_hora[0], \\\n",
        "                           lista_hora[1],lista_hora[2] )\n",
        "\n",
        "  if begin_truevampire <= envio_datetime <= finish_truevampire:\n",
        "    print(\"You're True Vampire\")\n",
        "\n",
        "  elif begin_earlybirds<= envio_datetime <=finish_earlybirds:\n",
        "    print(\"You're Early Bird\")\n",
        "\n",
        "  elif begin_sunnywarners<= envio_datetime <=finish_sunnywarners:\n",
        "    print(\"You're Sunny Warmer\")\n",
        "\n",
        "  elif begin_lunchwork<= envio_datetime<=finish_lunchwork:\n",
        "    print(\"You're Lunch Worker\")\n",
        "\n",
        "  elif begin_sunsetlovers <= envio_datetime <= finish_sunsetlovers:\n",
        "    print(\"You're Sunset Lover\")\n",
        "\n",
        "  elif begin_primetimers <= envio_datetime <= finish_primetimers:\n",
        "    print(\"You're Prime Timer\")"
      ]
    },
    {
      "cell_type": "markdown",
      "source": [
        "#Problema 2: Zona horaria\n",
        "\n",
        "• Diseñe un programa que lea la hora local y devuelva la hora en otra zona\n",
        "horaria indicada por el usuario. Considere el archivo de texto de zonas\n",
        "horarias “Taller - TimeZone.txt”"
      ],
      "metadata": {
        "id": "9DLEboBxO0eg"
      }
    },
    {
      "cell_type": "code",
      "source": [
        "from datetime import datetime, timedelta\n",
        "\n",
        "zonas_horarias= open(\"Taller - TimeZone.txt\", \"r\")\n",
        "\n",
        "zona={}\n",
        "for linea in zonas_horarias:\n",
        "    lista=linea.split(sep=',')\n",
        "    lista[1]=lista[1].strip('\\n')\n",
        "    zona[lista[0]]=lista[1]\n",
        "hora_local=int(zona['America/Bogota'][4:7])\n",
        "\n",
        "hora=str(input())\n",
        "zona_change=str(input())\n",
        "pais=zona_change.split(sep='/')\n",
        "utc_hora=int(zona[zona_change][4:7])\n",
        "utc_minutes=int((zona[zona_change][8:]))\n",
        "\n",
        "cambio_zona=utc_hora-hora_local\n",
        "nueva_hora=(hora.split(sep=':'))\n",
        "cambio= datetime(1,1,1,int(nueva_hora[0]),int(nueva_hora[1]),int\\\n",
        " (nueva_hora[2])) + timedelta(hours=cambio_zona, minutes=utc_minutes)\n",
        "hora_formateado=cambio.strftime('%H:%M:%S')\n",
        "print(f'La hora en {pais[1]} es {hora_formateado}')"
      ],
      "metadata": {
        "colab": {
          "base_uri": "https://localhost:8080/"
        },
        "id": "SeR8aOfWO46K",
        "outputId": "3af529f9-fd58-4dcb-a12b-873eabdc5ace"
      },
      "execution_count": null,
      "outputs": [
        {
          "output_type": "stream",
          "name": "stdout",
          "text": [
            "16:21:00\n",
            "Africa/Ndjamena\n",
            "La hora en Ndjamena es: 22:21:00\n"
          ]
        }
      ]
    },
    {
      "cell_type": "markdown",
      "source": [
        "#Problema 3: Dorian Gray\n",
        "• Diseñe un programa que reciba los años, meses, días que una persona ha vivido hasta\n",
        "hoy y retorne la fecha de nacimiento de dicha persona. La entrada será los años vividos,\n",
        "los meses vividos y los días vividos. La salida será la fecha de cumpleaños de la persona."
      ],
      "metadata": {
        "id": "CkdBNAgYg2SM"
      }
    },
    {
      "cell_type": "code",
      "source": [
        "from datetime import datetime, timedelta\n",
        "from dateutil.relativedelta import relativedelta\n",
        "\n",
        "años = int(input())\n",
        "meses = int(input())\n",
        "dias = int(input())\n",
        "\n",
        "hoy = datetime.now()\n",
        "\n",
        "delta= relativedelta(years=años, months=meses, days=dias)\n",
        "fecha_nacimiento= hoy - delta\n",
        "fecha_nacimiento= fecha_nacimiento.strftime('%Y-%m-%d')\n",
        "print(fecha_nacimiento)"
      ],
      "metadata": {
        "id": "1-NNU7e_fLUQ"
      },
      "execution_count": null,
      "outputs": []
    },
    {
      "cell_type": "markdown",
      "source": [
        "#Problema 4: Puntualidad\n",
        "\n",
        "• Un amigo que llega tarde a las citas y reuniones es común que haga esperar a todos.\n",
        "Diseñe un programa que reciba N reuniones, y para cada reunión: la hora de encuentro\n",
        "de cada reunión y la hora de llegada del amigo impuntual. Finalmente, que calcule el\n",
        "tiempo total que hizo esperar a sus amigos."
      ],
      "metadata": {
        "id": "bPShyYiXCn3j"
      }
    },
    {
      "cell_type": "code",
      "source": [
        "from datetime import datetime, timedelta\n",
        "\n",
        "reuniones=int(input())\n",
        "delta=[]\n",
        "\n",
        "for i in range(reuniones):\n",
        "  fecha_reunion=str(input())\n",
        "  fecha_reunion=fecha_reunion.split()\n",
        "  hora_reunion=fecha_reunion[1].split(sep=':')\n",
        "  hora_acordada=datetime(1,1,1,int(hora_reunion[0]),int(hora_reunion[1]),\\\n",
        "                         int(hora_reunion[2]))\n",
        "\n",
        "  fecha_llegada=str(input())\n",
        "  fecha_llegada=fecha_llegada.split()\n",
        "  hora_llegada=fecha_llegada[1].split(sep=':')\n",
        "  hora_llegada=datetime(1,1,1,int(hora_llegada[0]),int(hora_llegada[1]),\\\n",
        "                        int(hora_llegada[2]))\n",
        "\n",
        "  delta.append(hora_llegada-hora_acordada)\n",
        "\n",
        "total=timedelta(seconds=0)\n",
        "for i in range(len(delta)):\n",
        "  total=total+delta[i]\n",
        "\n",
        "print(f'El amigo impuntual ha hecho esperar a sus amigos durante {total}')"
      ],
      "metadata": {
        "colab": {
          "base_uri": "https://localhost:8080/"
        },
        "id": "791eAttEDscq",
        "outputId": "a2603e94-7aca-4c68-ab00-32b429b0cf17"
      },
      "execution_count": null,
      "outputs": [
        {
          "output_type": "stream",
          "name": "stdout",
          "text": [
            "4\n",
            "11-02-2023 16:00:00\n",
            "11-02-2023 16:52:00\n",
            "10-30-2023 13:30:00\n",
            "10-30-2023 20:12:00\n",
            "10-06-2023 19:00:00\n",
            "10-06-2023 19:20:00\n",
            "09-22-2023 14:30:00\n",
            "09-22-2023 15:12:00\n",
            "El amigo impuntual ha hecho esperar a sus amigos durante 8:36:00\n"
          ]
        }
      ]
    },
    {
      "cell_type": "markdown",
      "source": [
        "#Problema 5: Sensor de oleaje\n",
        "• Un sensor en altamar monitorea el oleaje durante un tiempo limitado de acuerdo con la\n",
        "capacidad de la batería “C” en amperios. Una muestra recolectada consume “x”\n",
        "miliamperios (mA), y la frecuencia de muestreo se configura cada “Y” segundos. ¿Cuánto\n",
        "tiempo tiene que pasar antes de emprender un viaje a altamar para cambiar la batería?"
      ],
      "metadata": {
        "id": "qp5fsJacIZn_"
      }
    },
    {
      "cell_type": "code",
      "source": [
        "\n"
      ],
      "metadata": {
        "id": "4nxllVuQIcVA"
      },
      "execution_count": null,
      "outputs": []
    },
    {
      "cell_type": "markdown",
      "source": [
        "#Problema 6: Competencia de programación.\n",
        "Un día, 3 mejores amigos deciden participar en una competencia de programación, en la cual, los participantes reciben varios problemas, antes de comenzar la\n",
        "competencia, los participantes deciden que implementarán la solución si y sólo si por lo menos dos de ellos están seguros de la solución. En esta competencia se\n",
        "ofrecen N problemas a los participantes, por cada problema, cada participante indica si está seguro o no de la solución.\n",
        "Ayuda a los amigos a encontrar a cuántos problemas le pueden dar solución.\n",
        "ENTRADA:\n",
        "La primera línea contiene un entero N, que corresponde al número de problemas en la competencia. Luego N líneas que contienen tres enteros cada una, cada entero\n",
        "puede ser 0 o 1, que corresponde a que si el participante está seguro (1) o no (0) de su solución, es decir si en la primera posición hay un 1, significa que el primer\n",
        "amigo está seguro\n",
        "de la solución, de lo contrario no lo está y así mismo con la segunda y tercera posición.\n",
        "SALIDA:\n",
        "Imprima un entero que corresponda al número de problemas a los que los amigos darán solución"
      ],
      "metadata": {
        "id": "bJtZwlQrzqCY"
      }
    },
    {
      "cell_type": "code",
      "source": [],
      "metadata": {
        "id": "azVHdA3Sz0d6"
      },
      "execution_count": null,
      "outputs": []
    },
    {
      "cell_type": "markdown",
      "source": [
        "#Problema 7: Año de distintos dígitos\n",
        "¿Sabías que 2013 es el primer año siguiente a 1987 que solo tiene dígitos distintos? Ahora, dado un\n",
        "año, encuentra el mínimo año el cual es estrictamente mayor que el dado y que solo tiene dígitos\n",
        "distintos.\n",
        "ENTRADA:\n",
        "Un entero A que contiene el año inicial\n",
        "SALIDA:\n",
        "El mínimo año que es estrictamente mayor a A y todos sus dígitos son distintos."
      ],
      "metadata": {
        "id": "NKVbnAFaz5Jv"
      }
    },
    {
      "cell_type": "code",
      "source": [],
      "metadata": {
        "id": "tFd3C59qz_DD"
      },
      "execution_count": null,
      "outputs": []
    },
    {
      "cell_type": "markdown",
      "source": [
        "#Problema 8: Celebración de año nuevo.\n",
        "\n",
        "El año nuevo es un gran momento para celebrar, 3 amigos quieren aprovechar este momento para\n",
        "reunirse, el primer amigo vive en el punto X1, el segundo en X2 y el tercero en X3 (Suponga que\n",
        "viven en una línea recta). ¿Ayúdelos a encontrar cuál es la distancia mínima que deben de recorrer\n",
        "para encontrarse en un punto y celebrar año nuevo?\n",
        "ENTRADA:\n",
        "Contiene 3 enteros distintos, X1, X2, X3, que son las coordenadas de las casas del primero, segundo\n",
        "y tercer amigo, respectivamente\n",
        "SALIDA:\n",
        "Un entero que corresponde a la mínima distancia total que los amigos tienen que viajar para\n",
        "reunirse."
      ],
      "metadata": {
        "id": "PuugcevLz_yv"
      }
    },
    {
      "cell_type": "code",
      "source": [],
      "metadata": {
        "id": "4xs7oYfS0CsX"
      },
      "execution_count": null,
      "outputs": []
    },
    {
      "cell_type": "markdown",
      "source": [
        "#Problema 9: Diccionario Inglés - Español.\n",
        "Cree un diccionario de traducción inglés-español, en el cual el usuario introducirá las palabras en español y su correspondiente en inglés y\n",
        "posteriormente pedirá una frase en inglés y deberá mostrar su traducción al español.\n",
        "ENTRADA:\n",
        "La primera línea corresponde a N, el número de palabras que se guardarán en el diccionario, seguido de N líneas, en donde cada una contiene una\n",
        "palabra en español y su correspondiente traducción. Después sigue un entero T, que corresponde al número de traducciones requeridas, seguido de T\n",
        "líneas con frases en inglés que esperan ser traducidas.\n",
        "SALIDA:\n",
        "T líneas correspondientes a la traducción en español."
      ],
      "metadata": {
        "id": "O9bmVdcf0DU_"
      }
    },
    {
      "cell_type": "code",
      "source": [],
      "metadata": {
        "id": "y0TMuS8I0Jgm"
      },
      "execution_count": null,
      "outputs": []
    },
    {
      "cell_type": "markdown",
      "source": [
        "#Problema 10: Día de nacimiento\n",
        "\n",
        "Diseñe un programa que reciba una fecha de nacimiento de una persona y luego muestre el\n",
        "día de la semana en que esa persona nació.\n",
        "Entrada:\n",
        "Una fecha Y, en formato YYYY-MM-DD\n",
        "Salida:\n",
        "Un string que diga qué día de la semana cayó tal fecha en que nació la persona."
      ],
      "metadata": {
        "id": "a9zyJ1160Kuv"
      }
    },
    {
      "cell_type": "code",
      "source": [],
      "metadata": {
        "id": "t4PwlcT70PDy"
      },
      "execution_count": null,
      "outputs": []
    },
    {
      "cell_type": "markdown",
      "source": [
        "#Problema 11: Conjetura de collatz\n",
        "Se empieza por un número n y se le aplica las siguientes operaciones\n",
        "● Si el número es par, se divide entre 2\n",
        "● Si el número es impar se multiplica por 3 y se suma 1\n",
        "Al número resultante se le vuelve a aplicar las operaciones hasta que sea igual a 1\n",
        "Entrada:\n",
        "Un valor N positivo no mayor a 1000\n",
        "Salida:\n",
        "La sucesión que devuelve la Conjetura de Collatz"
      ],
      "metadata": {
        "id": "D9MjLc3q0PrN"
      }
    },
    {
      "cell_type": "code",
      "source": [],
      "metadata": {
        "id": "0yHWr6fm0S-K"
      },
      "execution_count": null,
      "outputs": []
    },
    {
      "cell_type": "markdown",
      "source": [
        "#Problema 12: Sucesión de Fibonacci\n",
        "\n",
        "La sucesión de fibonacci consiste en la sumatoria de n-1 y n-2, se empieza por 1, 1 y se empieza a aplicar la\n",
        "sumatoria:\n",
        "1,1,2,3,5,8,13,21\n",
        "ENTRADA:\n",
        "Un valor N positivo\n",
        "Un valor M positivo\n",
        "Salida:\n",
        "Se imprimirá la sucesión de Fibonacci de los N primeros números, uno por línea y luego se imprimirá la sumatoria de\n",
        "los últimos M valores impares."
      ],
      "metadata": {
        "id": "-Ahpx_wK0Tjz"
      }
    },
    {
      "cell_type": "code",
      "source": [],
      "metadata": {
        "id": "up2tfsYi0V-Z"
      },
      "execution_count": null,
      "outputs": []
    },
    {
      "cell_type": "markdown",
      "source": [
        "#Problema 13: In English please\n",
        "Dada una cantidad de días, se deberá imprimir su equivalente en décadas, años, meses, semanas y días; se imprimirá\n",
        "la cantina X seguido de su nombre en inglés, si X es singular se imprimirá en singular, si X es plural deberá añadir una\n",
        "s, además si X es 0 no deberá imprimirlo; los años se tomarán como 365 y los meses de 31 días"
      ],
      "metadata": {
        "id": "edn4v5Ou0Wrn"
      }
    },
    {
      "cell_type": "code",
      "source": [],
      "metadata": {
        "id": "d0UWQGDg0ZMh"
      },
      "execution_count": null,
      "outputs": []
    },
    {
      "cell_type": "markdown",
      "source": [
        "#Problema 14: Josephus Flabius\n",
        "Imagina que se hace un círculo con N personas y en N-1 rondas se eliminará a la persona en la posición M contando\n",
        "desde el muerto anterior, así solo queda 1 persona viva, Dado ese N y M deberá imprimir la posición de la persona\n",
        "que quede viva al final; las posiciones van desde el 1 hasta el N.\n",
        "Si N es 10 y M es 3 se eliminarán primero al 3, luego al 6, luego al 9, al llegar a 10 se volverá al inicio y se eliminará al\n",
        "2, ya que la sucesión sería 10,1,2, luego se elimina al 7 (sucesión de 4,5,7), luego al 1 (sucesión de 8,10,1)..."
      ],
      "metadata": {
        "id": "nSJW6G2-0aNb"
      }
    },
    {
      "cell_type": "code",
      "source": [],
      "metadata": {
        "id": "wLcdzAJr0c2l"
      },
      "execution_count": null,
      "outputs": []
    },
    {
      "cell_type": "markdown",
      "source": [
        "#Problema 15: Out of Stock\n",
        "\n",
        "Dado un archivo de texto que contiene el inventario de productos con sus unidades disponibles. Se ingresará el\n",
        "nombre de los productos a comprar hasta que se ingrese “Fin”, si se ingresa uno que está en el inventario se imprime\n",
        "“Vendido”, si se ingresa uno que no está en el inventario se imprimirá “No vendemos eso”, y si se ingresa uno cuyo\n",
        "inventario está agotado imprimirá “Nos quedamos sin eso”."
      ],
      "metadata": {
        "id": "NBuADKGk0dlH"
      }
    },
    {
      "cell_type": "code",
      "source": [],
      "metadata": {
        "id": "rcIS-9sr0hTP"
      },
      "execution_count": null,
      "outputs": []
    }
  ]
}