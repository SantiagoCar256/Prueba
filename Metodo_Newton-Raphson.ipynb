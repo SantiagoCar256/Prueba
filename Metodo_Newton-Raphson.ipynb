{
  "nbformat": 4,
  "nbformat_minor": 0,
  "metadata": {
    "colab": {
      "provenance": [],
      "authorship_tag": "ABX9TyNE9S3Vr8RYx4e/p1DKZueY",
      "include_colab_link": true
    },
    "kernelspec": {
      "name": "python3",
      "display_name": "Python 3"
    },
    "language_info": {
      "name": "python"
    }
  },
  "cells": [
    {
      "cell_type": "markdown",
      "metadata": {
        "id": "view-in-github",
        "colab_type": "text"
      },
      "source": [
        "<a href=\"https://colab.research.google.com/github/SantiagoCar256/Prueba/blob/main/Metodo_Newton-Raphson.ipynb\" target=\"_parent\"><img src=\"https://colab.research.google.com/assets/colab-badge.svg\" alt=\"Open In Colab\"/></a>"
      ]
    },
    {
      "cell_type": "code",
      "execution_count": null,
      "metadata": {
        "colab": {
          "base_uri": "https://localhost:8080/"
        },
        "id": "d5VvkClV9Yy-",
        "outputId": "81927e76-301d-4721-aecd-d01a3a54ad0a"
      },
      "outputs": [
        {
          "output_type": "stream",
          "name": "stdout",
          "text": [
            "['xi', 'xnuevo', 'tramo']\n",
            "[[5.0000e-01 9.2421e-01 4.2421e-01]\n",
            " [9.2421e-01 8.2911e-01 9.5101e-02]\n",
            " [8.2911e-01 8.2415e-01 4.9596e-03]\n",
            " [8.2415e-01 8.2413e-01 1.3819e-05]\n",
            " [8.2413e-01 8.2413e-01 1.0739e-10]]\n",
            "raiz en:  0.8241323123025224\n",
            "con error de:  1.0738998579284953e-10\n"
          ]
        }
      ],
      "source": [
        "# Método de Newton-Raphson\n",
        "# Ejemplo 1 (Burden ejemplo 1 p.51/pdf.61)\n",
        "\n",
        "import numpy as np\n",
        "\n",
        "# INGRESO\n",
        "fx  = lambda x: np.cos(x) - (x**2)\n",
        "dfx = lambda x: (-1*(np.sin(x)))-(2*x)\n",
        "\n",
        "x0 = -\n",
        "  0.5\n",
        "tolera = 0.00001\n",
        "\n",
        "# PROCEDIMIENTO\n",
        "tabla = []\n",
        "tramo = abs(2*tolera)\n",
        "xi = x0\n",
        "while (tramo>=tolera):\n",
        "    xnuevo = xi - fx(xi)/dfx(xi)\n",
        "    tramo  = abs(xnuevo-xi)\n",
        "    tabla.append([xi,xnuevo,tramo])\n",
        "    xi = xnuevo\n",
        "\n",
        "# convierte la lista a un arreglo.\n",
        "tabla = np.array(tabla)\n",
        "n = len(tabla)\n",
        "\n",
        "# SALIDA\n",
        "print(['xi', 'xnuevo', 'tramo'])\n",
        "np.set_printoptions(precision = 4)\n",
        "print(tabla)\n",
        "print('raiz en: ', xi)\n",
        "print('con error de: ',tramo)"
      ]
    }
  ]
}